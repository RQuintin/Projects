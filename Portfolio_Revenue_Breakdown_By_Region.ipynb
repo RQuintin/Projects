{
 "cells": [
  {
   "cell_type": "markdown",
   "metadata": {},
   "source": [
    "# Portfolio Revenue Breakdown By Region"
   ]
  },
  {
   "cell_type": "markdown",
   "metadata": {},
   "source": [
    "### 1. Import, read in app key info"
   ]
  },
  {
   "cell_type": "code",
   "execution_count": 1,
   "metadata": {},
   "outputs": [],
   "source": [
    "import eikon as TR\n",
    "import pandas as pd\n",
    "import numpy as np\n",
    "import matplotlib.pyplot as plt\n",
    "TR.set_app_key('0bce3e76b05e4129b1ada0acc56af36ab86adc01')"
   ]
  },
  {
   "cell_type": "markdown",
   "metadata": {},
   "source": [
    "### 2. Enter the name of your portfolio or Index "
   ]
  },
  {
   "cell_type": "code",
   "execution_count": 2,
   "metadata": {},
   "outputs": [
    {
     "data": {
      "text/html": [
       "<div>\n",
       "<style scoped>\n",
       "    .dataframe tbody tr th:only-of-type {\n",
       "        vertical-align: middle;\n",
       "    }\n",
       "\n",
       "    .dataframe tbody tr th {\n",
       "        vertical-align: top;\n",
       "    }\n",
       "\n",
       "    .dataframe thead th {\n",
       "        text-align: right;\n",
       "    }\n",
       "</style>\n",
       "<table border=\"1\" class=\"dataframe\">\n",
       "  <thead>\n",
       "    <tr style=\"text-align: right;\">\n",
       "      <th></th>\n",
       "      <th>Instrument</th>\n",
       "      <th>Geographic External Revenue</th>\n",
       "      <th>Segment Name</th>\n",
       "      <th>Segment Code</th>\n",
       "    </tr>\n",
       "  </thead>\n",
       "  <tbody>\n",
       "    <tr>\n",
       "      <td>0</td>\n",
       "      <td>CHRW.OQ</td>\n",
       "      <td>1.314352e+10</td>\n",
       "      <td>United States</td>\n",
       "      <td>USA</td>\n",
       "    </tr>\n",
       "    <tr>\n",
       "      <td>1</td>\n",
       "      <td>CHRW.OQ</td>\n",
       "      <td>2.165986e+09</td>\n",
       "      <td>other location</td>\n",
       "      <td>OTHERS</td>\n",
       "    </tr>\n",
       "    <tr>\n",
       "      <td>2</td>\n",
       "      <td>CHRW.OQ</td>\n",
       "      <td>1.530951e+10</td>\n",
       "      <td>Segment Total</td>\n",
       "      <td>SEGMTL</td>\n",
       "    </tr>\n",
       "    <tr>\n",
       "      <td>3</td>\n",
       "      <td>CHRW.OQ</td>\n",
       "      <td>1.530951e+10</td>\n",
       "      <td>Consolidated Total</td>\n",
       "      <td>CONSTL</td>\n",
       "    </tr>\n",
       "    <tr>\n",
       "      <td>4</td>\n",
       "      <td>AJG.N</td>\n",
       "      <td>5.379100e+09</td>\n",
       "      <td>United States</td>\n",
       "      <td>USA</td>\n",
       "    </tr>\n",
       "    <tr>\n",
       "      <td>...</td>\n",
       "      <td>...</td>\n",
       "      <td>...</td>\n",
       "      <td>...</td>\n",
       "      <td>...</td>\n",
       "    </tr>\n",
       "    <tr>\n",
       "      <td>2226</td>\n",
       "      <td>AVY.N</td>\n",
       "      <td>2.458500e+09</td>\n",
       "      <td>Asia</td>\n",
       "      <td>AS</td>\n",
       "    </tr>\n",
       "    <tr>\n",
       "      <td>2227</td>\n",
       "      <td>AVY.N</td>\n",
       "      <td>4.983000e+08</td>\n",
       "      <td>Latin America</td>\n",
       "      <td>OCA,OSA</td>\n",
       "    </tr>\n",
       "    <tr>\n",
       "      <td>2228</td>\n",
       "      <td>AVY.N</td>\n",
       "      <td>3.143000e+08</td>\n",
       "      <td>other International</td>\n",
       "      <td>EU,UK</td>\n",
       "    </tr>\n",
       "    <tr>\n",
       "      <td>2229</td>\n",
       "      <td>AVY.N</td>\n",
       "      <td>7.070100e+09</td>\n",
       "      <td>Segment Total</td>\n",
       "      <td>SEGMTL</td>\n",
       "    </tr>\n",
       "    <tr>\n",
       "      <td>2230</td>\n",
       "      <td>AVY.N</td>\n",
       "      <td>7.070100e+09</td>\n",
       "      <td>Consolidated Total</td>\n",
       "      <td>CONSTL</td>\n",
       "    </tr>\n",
       "  </tbody>\n",
       "</table>\n",
       "<p>2231 rows × 4 columns</p>\n",
       "</div>"
      ],
      "text/plain": [
       "     Instrument  Geographic External Revenue         Segment Name Segment Code\n",
       "0       CHRW.OQ                 1.314352e+10        United States          USA\n",
       "1       CHRW.OQ                 2.165986e+09       other location       OTHERS\n",
       "2       CHRW.OQ                 1.530951e+10        Segment Total       SEGMTL\n",
       "3       CHRW.OQ                 1.530951e+10   Consolidated Total       CONSTL\n",
       "4         AJG.N                 5.379100e+09        United States          USA\n",
       "...         ...                          ...                  ...          ...\n",
       "2226      AVY.N                 2.458500e+09                 Asia           AS\n",
       "2227      AVY.N                 4.983000e+08        Latin America      OCA,OSA\n",
       "2228      AVY.N                 3.143000e+08  other International        EU,UK\n",
       "2229      AVY.N                 7.070100e+09        Segment Total       SEGMTL\n",
       "2230      AVY.N                 7.070100e+09   Consolidated Total       CONSTL\n",
       "\n",
       "[2231 rows x 4 columns]"
      ]
     },
     "execution_count": 2,
     "metadata": {},
     "output_type": "execute_result"
    }
   ],
   "source": [
    "#RBD, e= TR.get_data([\"Portfolio('GG Model Port','20200403')\"],['TR.BGS.GeoExternalRevenue','TR.BGS.GeoExternalRevenue.segmentname','TR.BGS.GeoExternalRevenue.segmentcode'])\n",
    "\n",
    "RBD, e= TR.get_data(['0#.SPX'],['TR.BGS.GeoExternalRevenue','TR.BGS.GeoExternalRevenue.segmentname','TR.BGS.GeoExternalRevenue.segmentcode'])\n",
    "RBD"
   ]
  },
  {
   "cell_type": "code",
   "execution_count": 3,
   "metadata": {},
   "outputs": [
    {
     "data": {
      "text/html": [
       "<div>\n",
       "<style scoped>\n",
       "    .dataframe tbody tr th:only-of-type {\n",
       "        vertical-align: middle;\n",
       "    }\n",
       "\n",
       "    .dataframe tbody tr th {\n",
       "        vertical-align: top;\n",
       "    }\n",
       "\n",
       "    .dataframe thead th {\n",
       "        text-align: right;\n",
       "    }\n",
       "</style>\n",
       "<table border=\"1\" class=\"dataframe\">\n",
       "  <thead>\n",
       "    <tr style=\"text-align: right;\">\n",
       "      <th></th>\n",
       "      <th>Instrument</th>\n",
       "      <th>Geographic External Revenue</th>\n",
       "      <th>Segment Name</th>\n",
       "      <th>Segment Code</th>\n",
       "    </tr>\n",
       "  </thead>\n",
       "  <tbody>\n",
       "    <tr>\n",
       "      <td>0</td>\n",
       "      <td>CHRW.OQ</td>\n",
       "      <td>1.314352e+10</td>\n",
       "      <td>United States</td>\n",
       "      <td>USA</td>\n",
       "    </tr>\n",
       "    <tr>\n",
       "      <td>1</td>\n",
       "      <td>CHRW.OQ</td>\n",
       "      <td>2.165986e+09</td>\n",
       "      <td>other location</td>\n",
       "      <td>OTHERS</td>\n",
       "    </tr>\n",
       "    <tr>\n",
       "      <td>2</td>\n",
       "      <td>CHRW.OQ</td>\n",
       "      <td>1.530951e+10</td>\n",
       "      <td>Segment Total</td>\n",
       "      <td>SEGMTL</td>\n",
       "    </tr>\n",
       "    <tr>\n",
       "      <td>3</td>\n",
       "      <td>CHRW.OQ</td>\n",
       "      <td>1.530951e+10</td>\n",
       "      <td>Consolidated Total</td>\n",
       "      <td>CONSTL</td>\n",
       "    </tr>\n",
       "    <tr>\n",
       "      <td>4</td>\n",
       "      <td>AJG.N</td>\n",
       "      <td>5.379100e+09</td>\n",
       "      <td>United States</td>\n",
       "      <td>USA</td>\n",
       "    </tr>\n",
       "    <tr>\n",
       "      <td>...</td>\n",
       "      <td>...</td>\n",
       "      <td>...</td>\n",
       "      <td>...</td>\n",
       "      <td>...</td>\n",
       "    </tr>\n",
       "    <tr>\n",
       "      <td>2226</td>\n",
       "      <td>AVY.N</td>\n",
       "      <td>2.458500e+09</td>\n",
       "      <td>Asia</td>\n",
       "      <td>AS</td>\n",
       "    </tr>\n",
       "    <tr>\n",
       "      <td>2227</td>\n",
       "      <td>AVY.N</td>\n",
       "      <td>4.983000e+08</td>\n",
       "      <td>Latin America</td>\n",
       "      <td>OCA,OSA</td>\n",
       "    </tr>\n",
       "    <tr>\n",
       "      <td>2228</td>\n",
       "      <td>AVY.N</td>\n",
       "      <td>3.143000e+08</td>\n",
       "      <td>other International</td>\n",
       "      <td>EU,UK</td>\n",
       "    </tr>\n",
       "    <tr>\n",
       "      <td>2229</td>\n",
       "      <td>AVY.N</td>\n",
       "      <td>7.070100e+09</td>\n",
       "      <td>Segment Total</td>\n",
       "      <td>SEGMTL</td>\n",
       "    </tr>\n",
       "    <tr>\n",
       "      <td>2230</td>\n",
       "      <td>AVY.N</td>\n",
       "      <td>7.070100e+09</td>\n",
       "      <td>Consolidated Total</td>\n",
       "      <td>CONSTL</td>\n",
       "    </tr>\n",
       "  </tbody>\n",
       "</table>\n",
       "<p>2231 rows × 4 columns</p>\n",
       "</div>"
      ],
      "text/plain": [
       "     Instrument  Geographic External Revenue         Segment Name Segment Code\n",
       "0       CHRW.OQ                 1.314352e+10        United States          USA\n",
       "1       CHRW.OQ                 2.165986e+09       other location       OTHERS\n",
       "2       CHRW.OQ                 1.530951e+10        Segment Total       SEGMTL\n",
       "3       CHRW.OQ                 1.530951e+10   Consolidated Total       CONSTL\n",
       "4         AJG.N                 5.379100e+09        United States          USA\n",
       "...         ...                          ...                  ...          ...\n",
       "2226      AVY.N                 2.458500e+09                 Asia           AS\n",
       "2227      AVY.N                 4.983000e+08        Latin America      OCA,OSA\n",
       "2228      AVY.N                 3.143000e+08  other International        EU,UK\n",
       "2229      AVY.N                 7.070100e+09        Segment Total       SEGMTL\n",
       "2230      AVY.N                 7.070100e+09   Consolidated Total       CONSTL\n",
       "\n",
       "[2231 rows x 4 columns]"
      ]
     },
     "execution_count": 3,
     "metadata": {},
     "output_type": "execute_result"
    }
   ],
   "source": [
    "RBD.groupby('Segment Name').sum()\n",
    "RBD"
   ]
  },
  {
   "cell_type": "markdown",
   "metadata": {},
   "source": [
    "### 3. Group By United States and Rest of World"
   ]
  },
  {
   "cell_type": "code",
   "execution_count": 4,
   "metadata": {
    "scrolled": true
   },
   "outputs": [
    {
     "data": {
      "text/plain": [
       "4918599988000.0"
      ]
     },
     "execution_count": 4,
     "metadata": {},
     "output_type": "execute_result"
    }
   ],
   "source": [
    "Am1 = RBD.loc[RBD['Segment Name'] == 'United States', 'Geographic External Revenue'].sum()\n",
    "Am2 = RBD.loc[RBD['Segment Name'] == 'United States,Canada and Latin America', 'Geographic External Revenue'].sum()\n",
    "Am3 = RBD.loc[RBD['Segment Name'] == 'Americas', 'Geographic External Revenue'].sum()\n",
    "Am4 = RBD.loc[RBD['Segment Name'] == 'North America', 'Geographic External Revenue'].sum()\n",
    "Am5 = RBD.loc[RBD['Segment Name'] == 'South America', 'Geographic External Revenue'].sum()\n",
    "Am6 = RBD.loc[RBD['Segment Name'] == 'Brazil', 'Geographic External Revenue'].sum()\n",
    "Am7 = RBD.loc[RBD['Segment Name'] == 'Central and south America', 'Geographic External Revenue'].sum()\n",
    "Am8 = RBD.loc[RBD['Segment Name'] == 'Rest of Americas', 'Geographic External Revenue'].sum()\n",
    "Am9 = RBD.loc[RBD['Segment Name'] == 'Northern America', 'Geographic External Revenue'].sum()\n",
    "Am10 = RBD.loc[RBD['Segment Name'] == 'Other Americas', 'Geographic External Revenue'].sum()\n",
    "Am11 = RBD.loc[RBD['Segment Name'] == 'America', 'Geographic External Revenue'].sum()\n",
    "Am12 = RBD.loc[RBD['Segment Name'] == 'Unite States', 'Geographic External Revenue'].sum()\n",
    "Am13 = RBD.loc[RBD['Segment Name'] == 'Americas (Region)', 'Geographic External Revenue'].sum()\n",
    "Am14 = RBD.loc[RBD['Segment Name'] == 'Latin America', 'Geographic External Revenue'].sum()\n",
    "Am15 = RBD.loc[RBD['Segment Name'] == 'Hispam Sur', 'Geographic External Revenue'].sum()\n",
    "Am16 = RBD.loc[RBD['Segment Name'] == 'Hispam Norte', 'Geographic External Revenue'].sum()\n",
    "Am17 = RBD.loc[RBD['Segment Name'] == 'Mexico', 'Geographic External Revenue'].sum()\n",
    "Am18 = RBD.loc[RBD['Segment Name'] == 'Canada', 'Geographic External Revenue'].sum()\n",
    "Am19 = RBD.loc[RBD['Segment Name'] == 'Rest of AMS', 'Geographic External Revenue'].sum()\n",
    "Am20 = RBD.loc[RBD['Segment Name'] == 'Central America/Other South American Countries', 'Geographic External Revenue'].sum()\n",
    "Am21 = RBD.loc[RBD['Segment Name'] == 'United States (Country)', 'Geographic External Revenue'].sum()\n",
    "Am22 = RBD.loc[RBD['Segment Name'] == 'US', 'Geographic External Revenue'].sum()\n",
    "Am23 = RBD.loc[RBD['Segment Name'] == 'Latin America (Region)', 'Geographic External Revenue'].sum()\n",
    "Am24 = RBD.loc[RBD['Segment Name'] == 'U.S.', 'Geographic External Revenue'].sum()\n",
    "Am25 = RBD.loc[RBD['Segment Name'] == 'Latin America/Canada', 'Geographic External Revenue'].sum()\n",
    "Am26 = RBD.loc[RBD['Segment Name'] == 'North America-Other', 'Geographic External Revenue'].sum()\n",
    "Am27 = RBD.loc[RBD['Segment Name'] == 'North America-Footwear', 'Geographic External Revenue'].sum()\n",
    "Am28 = RBD.loc[RBD['Segment Name'] == 'North America-Equipment', 'Geographic External Revenue'].sum()\n",
    "Am29 = RBD.loc[RBD['Segment Name'] == 'North America-Apparel', 'Geographic External Revenue'].sum()\n",
    "Am30 = RBD.loc[RBD['Segment Name'] == 'other Latin America', 'Geographic External Revenue'].sum()\n",
    "Am31 = RBD.loc[RBD['Segment Name'] == 'United States & Puerto Rico', 'Geographic External Revenue'].sum()\n",
    "Am32 = RBD.loc[RBD['Segment Name'] == 'The Americas', 'Geographic External Revenue'].sum()\n",
    "Am33 = RBD.loc[RBD['Segment Name'] == 'Chile', 'Geographic External Revenue'].sum()\n",
    "Am34 = RBD.loc[RBD['Segment Name'] == 'Rest of North America', 'Geographic External Revenue'].sum()\n",
    "Am35 = RBD.loc[RBD['Segment Name'] == 'Other America', 'Geographic External Revenue'].sum()\n",
    "Am36 = RBD.loc[RBD['Segment Name'] == 'USA', 'Geographic External Revenue'].sum()\n",
    "Am37 = RBD.loc[RBD['Segment Name'] == 'Other American Countries', 'Geographic External Revenue'].sum()\n",
    "Am38 = RBD.loc[RBD['Segment Name'] == 'US & Canada', 'Geographic External Revenue'].sum()\n",
    "Am39 = RBD.loc[RBD['Segment Name'] == 'United States (\"U.S.\")', 'Geographic External Revenue'].sum()\n",
    "Am40 = RBD.loc[RBD['Segment Name'] == 'United States & Canada', 'Geographic External Revenue'].sum()\n",
    "Am41 = RBD.loc[RBD['Segment Name'] == 'Canada (Country)', 'Geographic External Revenue'].sum()\n",
    "Am42 = RBD.loc[RBD['Segment Name'] == 'Trinidad', 'Geographic External Revenue'].sum()\n",
    "Am43 = RBD.loc[RBD['Segment Name'] == 'Latin America, Caribbean and other', 'Geographic External Revenue'].sum()\n",
    "Am44 = RBD.loc[RBD['Segment Name'] == 'Argentina', 'Geographic External Revenue'].sum()\n",
    "\n",
    "Americas = Am1+Am2+Am3+Am4+Am5+Am6+Am7+Am8+Am9+Am10+Am11+Am12+Am13+Am14+Am15+Am16+Am17+Am18+Am19+Am20+Am21+Am22+Am23+Am24+Am25+Am26+Am27+Am28+Am29+Am30+Am31+Am32+Am33+Am34+Am35+Am36+Am37+Am38+Am39+Am40+Am41+Am42+Am43+Am44\n",
    "Americas"
   ]
  },
  {
   "cell_type": "code",
   "execution_count": 5,
   "metadata": {},
   "outputs": [
    {
     "data": {
      "text/plain": [
       "542641975000.0"
      ]
     },
     "execution_count": 5,
     "metadata": {},
     "output_type": "execute_result"
    }
   ],
   "source": [
    "Eu1 = RBD.loc[RBD['Segment Code'] == 'Europe', 'Geographic External Revenue'].sum()\n",
    "Eu2 = RBD.loc[RBD['Segment Code'] == 'Denmark', 'Geographic External Revenue'].sum()\n",
    "Eu3 = RBD.loc[RBD['Segment Code'] == 'Finland', 'Geographic External Revenue'].sum()\n",
    "Eu4 = RBD.loc[RBD['Segment Name'] == 'Sweden', 'Geographic External Revenue'].sum()\n",
    "Eu5 = RBD.loc[RBD['Segment Name'] == 'Norway', 'Geographic External Revenue'].sum()\n",
    "Eu6 = RBD.loc[RBD['Segment Name'] == 'Baltics', 'Geographic External Revenue'].sum()\n",
    "Eu7 = RBD.loc[RBD['Segment Name'] == 'France', 'Geographic External Revenue'].sum()\n",
    "Eu8 = RBD.loc[RBD['Segment Name'] == 'Africa/Middle East', 'Geographic External Revenue'].sum()\n",
    "Eu9 = RBD.loc[RBD['Segment Name'] == 'Europe (excluding France)', 'Geographic External Revenue'].sum()\n",
    "Eu10 = RBD.loc[RBD['Segment Name'] == 'Southern Europe - ME & Africa', 'Geographic External Revenue'].sum()\n",
    "Eu11 = RBD.loc[RBD['Segment Name'] == 'Northern Europe', 'Geographic External Revenue'].sum()\n",
    "Eu12 = RBD.loc[RBD['Segment Name'] == 'UK', 'Geographic External Revenue'].sum()\n",
    "Eu13 = RBD.loc[RBD['Segment Name'] == 'Germany', 'Geographic External Revenue'].sum()\n",
    "Eu14 = RBD.loc[RBD['Segment Name'] == 'Other European Countries', 'Geographic External Revenue'].sum()\n",
    "Eu15 = RBD.loc[RBD['Segment Name'] == 'Africa', 'Geographic External Revenue'].sum()\n",
    "Eu16 = RBD.loc[RBD['Segment Name'] == 'Baltics', 'Geographic External Revenue'].sum()\n",
    "Eu17 = RBD.loc[RBD['Segment Name'] == 'Portugal', 'Geographic External Revenue'].sum()\n",
    "Eu18 = RBD.loc[RBD['Segment Name'] == 'Central & Eastern Europe', 'Geographic External Revenue'].sum()\n",
    "Eu19 = RBD.loc[RBD['Segment Name'] == 'Rest of Europe', 'Geographic External Revenue'].sum()\n",
    "Eu20 = RBD.loc[RBD['Segment Name'] == 'Rest of Europe, Middle East and Africa', 'Geographic External Revenue'].sum()\n",
    "Eu21 = RBD.loc[RBD['Segment Name'] == 'Europe (Other)', 'Geographic External Revenue'].sum()\n",
    "Eu22 = RBD.loc[RBD['Segment Name'] == 'U.K.', 'Geographic External Revenue'].sum()\n",
    "Eu23 = RBD.loc[RBD['Segment Name'] == 'Europe and CIS', 'Geographic External Revenue'].sum()\n",
    "Eu24 = RBD.loc[RBD['Segment Name'] == 'Russia (Country)', 'Geographic External Revenue'].sum()\n",
    "Eu25 = RBD.loc[RBD['Segment Name'] == 'Europe And Canada (Country)', 'Geographic External Revenue'].sum()\n",
    "Eu26 = RBD.loc[RBD['Segment Name'] == 'South Africa', 'Geographic External Revenue'].sum()\n",
    "Eu27 = RBD.loc[RBD['Segment Name'] == 'Uganda', 'Geographic External Revenue'].sum()\n",
    "Eu28 = RBD.loc[RBD['Segment Name'] == 'Cameroon', 'Geographic External Revenue'].sum()\n",
    "Eu29 = RBD.loc[RBD['Segment Name'] == 'Nigeria', 'Geographic External Revenue'].sum()\n",
    "Eu30 = RBD.loc[RBD['Segment Name'] == 'Sudan', 'Geographic External Revenue'].sum()\n",
    "Eu31 = RBD.loc[RBD['Segment Name'] == 'Ivory Coast', 'Geographic External Revenue'].sum()\n",
    "Eu32 = RBD.loc[RBD['Segment Name'] == 'Syria', 'Geographic External Revenue'].sum()\n",
    "Eu33 = RBD.loc[RBD['Segment Name'] == 'Iran', 'Geographic External Revenue'].sum()\n",
    "Eu34 = RBD.loc[RBD['Segment Name'] == 'Ghana', 'Geographic External Revenue'].sum()\n",
    "Eu35 = RBD.loc[RBD['Segment Name'] == 'Rest of Africa', 'Geographic External Revenue'].sum()\n",
    "Eu36 = RBD.loc[RBD['Segment Name'] == 'Spain', 'Geographic External Revenue'].sum()\n",
    "Eu37 = RBD.loc[RBD['Segment Name'] == 'United Kingdom', 'Geographic External Revenue'].sum()\n",
    "Eu38 = RBD.loc[RBD['Segment Name'] == 'Europe and Latin America', 'Geographic External Revenue'].sum()\n",
    "Eu39 = RBD.loc[RBD['Segment Name'] == 'Italy', 'Geographic External Revenue'].sum()\n",
    "Eu40 = RBD.loc[RBD['Segment Name'] == 'Switzerland', 'Geographic External Revenue'].sum()\n",
    "Eu41 = RBD.loc[RBD['Segment Name'] == 'Rest of EMENA', 'Geographic External Revenue'].sum()\n",
    "Eu42 = RBD.loc[RBD['Segment Name'] == 'Russia', 'Geographic External Revenue'].sum()\n",
    "Eu43 = RBD.loc[RBD['Segment Name'] == 'Other Europe', 'Geographic External Revenue'].sum()\n",
    "Eu44 = RBD.loc[RBD['Segment Name'] == 'Europe, Middle East and Africa  - EMEA', 'Geographic External Revenue'].sum()\n",
    "Eu45 = RBD.loc[RBD['Segment Name'] == 'The Netherlands', 'Geographic External Revenue'].sum()\n",
    "Eu46 = RBD.loc[RBD['Segment Name'] == 'Europe (Region)', 'Geographic External Revenue'].sum()\n",
    "Eu47 = RBD.loc[RBD['Segment Name'] == 'Hungary', 'Geographic External Revenue'].sum()\n",
    "Eu48 = RBD.loc[RBD['Segment Name'] == 'Middle East', 'Geographic External Revenue'].sum()\n",
    "Eu49 = RBD.loc[RBD['Segment Name'] == 'EAME', 'Geographic External Revenue'].sum()\n",
    "Eu50 = RBD.loc[RBD['Segment Name'] == 'Europe/Middle East/Africa', 'Geographic External Revenue'].sum()\n",
    "Eu51 = RBD.loc[RBD['Segment Name'] == 'Central Europe and CIS', 'Geographic External Revenue'].sum()\n",
    "Eu52 = RBD.loc[RBD['Segment Name'] == 'Western Europe', 'Geographic External Revenue'].sum()\n",
    "Eu53 = RBD.loc[RBD['Segment Name'] == 'Belgium', 'Geographic External Revenue'].sum()\n",
    "Eu54 = RBD.loc[RBD['Segment Name'] == 'Ireland', 'Geographic External Revenue'].sum()\n",
    "Eu55 = RBD.loc[RBD['Segment Name'] == 'Europe, Middle East and Africa', 'Geographic External Revenue'].sum()\n",
    "Eu56 = RBD.loc[RBD['Segment Name'] == 'Europe, Middle East, Africa-Other', 'Geographic External Revenue'].sum()\n",
    "Eu57 = RBD.loc[RBD['Segment Name'] == 'Europe, Middle East, Africa-Footwear', 'Geographic External Revenue'].sum()\n",
    "Eu58 = RBD.loc[RBD['Segment Name'] == 'Europe, Middle East, Africa-Equipment', 'Geographic External Revenue'].sum()\n",
    "Eu59 = RBD.loc[RBD['Segment Name'] == 'Europe, Middle East, Africa-Apparel', 'Geographic External Revenue'].sum()\n",
    "Eu60 = RBD.loc[RBD['Segment Name'] == 'Europe/CIS/Africa', 'Geographic External Revenue'].sum()\n",
    "Eu61 = RBD.loc[RBD['Segment Name'] == 'Europe & Middle East & Africa (EMEA)', 'Geographic External Revenue'].sum()\n",
    "Eu62 = RBD.loc[RBD['Segment Name'] == 'European Union', 'Geographic External Revenue'].sum()\n",
    "Eu63 = RBD.loc[RBD['Segment Name'] == 'Poland', 'Geographic External Revenue'].sum()\n",
    "Eu64 = RBD.loc[RBD['Segment Name'] == 'Romania', 'Geographic External Revenue'].sum()\n",
    "Eu65 = RBD.loc[RBD['Segment Name'] == 'Other Africa', 'Geographic External Revenue'].sum()\n",
    "Eu66 = RBD.loc[RBD['Segment Name'] == 'Netherlands', 'Geographic External Revenue'].sum()\n",
    "Eu67 = RBD.loc[RBD['Segment Name'] == 'Europe/C.I.S./Middle East/Africa', 'Geographic External Revenue'].sum()\n",
    "Eu68 = RBD.loc[RBD['Segment Name'] == 'EMEA', 'Geographic External Revenue'].sum()\n",
    "Eu69 = RBD.loc[RBD['Segment Name'] == 'Europe excluding UK', 'Geographic External Revenue'].sum()\n",
    "Eu70 = RBD.loc[RBD['Segment Name'] == 'Turkey', 'Geographic External Revenue'].sum()\n",
    "Eu71 = RBD.loc[RBD['Segment Name'] == 'Czech Republic', 'Geographic External Revenue'].sum()\n",
    "Eu72 = RBD.loc[RBD['Segment Name'] == 'Morocco', 'Geographic External Revenue'].sum()\n",
    "Eu73 = RBD.loc[RBD['Segment Name'] == 'Egypt', 'Geographic External Revenue'].sum()\n",
    "Eu74 = RBD.loc[RBD['Segment Name'] == 'Other European Union', 'Geographic External Revenue'].sum()\n",
    "Eu75 = RBD.loc[RBD['Segment Name'] == 'United Kingdom (\"U.K.\"', 'Geographic External Revenue'].sum()\n",
    "Eu76 = RBD.loc[RBD['Segment Name'] == 'Developed Europe', 'Geographic External Revenue'].sum()\n",
    "Eu77 = RBD.loc[RBD['Segment Name'] == 'Libya', 'Geographic External Revenue'].sum()\n",
    "\n",
    "Europe = Eu1+Eu2+Eu3+Eu4+Eu5+Eu6+Eu7+Eu8+Eu9+Eu10+Eu11+Eu12+Eu13+Eu14+Eu15+Eu16+Eu17+Eu18+Eu19+Eu20+Eu21+Eu22+Eu23+Eu24+Eu25+Eu26+Eu27+Eu28+Eu29+Eu30+Eu31+Eu32+Eu33+Eu34+Eu35+Eu36+Eu37+Eu38+Eu39+Eu40+Eu41+Eu42+Eu43+Eu44+Eu45+Eu46+Eu47+Eu48+Eu49+Eu50+Eu51+Eu52+Eu53+Eu54+Eu55+Eu56+Eu57+Eu58+Eu59+Eu60+Eu61+Eu62+Eu63+Eu64+Eu65+Eu66+Eu67+Eu68+Eu69+Eu70+Eu71+Eu72+Eu73+Eu74+Eu75+Eu76+Eu77\n",
    "Europe\n"
   ]
  },
  {
   "cell_type": "code",
   "execution_count": 6,
   "metadata": {},
   "outputs": [
    {
     "data": {
      "text/plain": [
       "401639180000.0"
      ]
     },
     "execution_count": 6,
     "metadata": {},
     "output_type": "execute_result"
    }
   ],
   "source": [
    "As1 = RBD.loc[RBD['Segment Code'] == 'Australia', 'Geographic External Revenue'].sum()\n",
    "As2 = RBD.loc[RBD['Segment Code'] == 'China', 'Geographic External Revenue'].sum()\n",
    "As3 = RBD.loc[RBD['Segment Code'] == 'Japan', 'Geographic External Revenue'].sum()\n",
    "As4 = RBD.loc[RBD['Segment Code'] == 'South Korea', 'Geographic External Revenue'].sum()\n",
    "As5 = RBD.loc[RBD['Segment Name'] == 'Rest of Asia', 'Geographic External Revenue'].sum()\n",
    "As6 = RBD.loc[RBD['Segment Name'] == 'Asia-Pacific', 'Geographic External Revenue'].sum()\n",
    "As7 = RBD.loc[RBD['Segment Name'] == 'India (Country)', 'Geographic External Revenue'].sum()\n",
    "As8 = RBD.loc[RBD['Segment Name'] == 'Asia (excluding Japan)', 'Geographic External Revenue'].sum()\n",
    "As9 = RBD.loc[RBD['Segment Name'] == 'Asia Pacific', 'Geographic External Revenue'].sum()\n",
    "As10 = RBD.loc[RBD['Segment Name'] == 'Asia and Middle East', 'Geographic External Revenue'].sum()\n",
    "As11 = RBD.loc[RBD['Segment Name'] == 'Rest of Asia, Pacific1', 'Geographic External Revenue'].sum()\n",
    "As12 = RBD.loc[RBD['Segment Name'] == 'Hong Kong', 'Geographic External Revenue'].sum()\n",
    "As13 = RBD.loc[RBD['Segment Name'] == 'Mainland China', 'Geographic External Revenue'].sum()\n",
    "As14 = RBD.loc[RBD['Segment Name'] == 'India', 'Geographic External Revenue'].sum()\n",
    "As15 = RBD.loc[RBD['Segment Name'] == 'Southeast Asia & Taiwan', 'Geographic External Revenue'].sum()\n",
    "As16 = RBD.loc[RBD['Segment Name'] == 'ChinaAsia (Region)/Oceania (Region)', 'Geographic External Revenue'].sum()\n",
    "As17 = RBD.loc[RBD['Segment Name'] == 'Asia (Region)/Oceania (Region)', 'Geographic External Revenue'].sum()\n",
    "As18 = RBD.loc[RBD['Segment Name'] == 'Asia', 'Geographic External Revenue'].sum()\n",
    "As19 = RBD.loc[RBD['Segment Name'] == 'Other Asia/Oceania', 'Geographic External Revenue'].sum()\n",
    "As20 = RBD.loc[RBD['Segment Name'] == 'Singapore (Country)', 'Geographic External Revenue'].sum()\n",
    "As21 = RBD.loc[RBD['Segment Name'] == 'Singapore', 'Geographic External Revenue'].sum()\n",
    "As22 = RBD.loc[RBD['Segment Name'] == 'Japan (Country)', 'Geographic External Revenue'].sum()\n",
    "As23 = RBD.loc[RBD['Segment Name'] == 'Asia ex-Japan (Region)', 'Geographic External Revenue'].sum()\n",
    "As24 = RBD.loc[RBD['Segment Name'] == 'Asia/Oceania', 'Geographic External Revenue'].sum()\n",
    "As25 = RBD.loc[RBD['Segment Name'] == 'Asia/Africa', 'Geographic External Revenue'].sum()\n",
    "As26 = RBD.loc[RBD['Segment Name'] == 'Other SEA', 'Geographic External Revenue'].sum()\n",
    "As27 = RBD.loc[RBD['Segment Name'] == 'North East Asia', 'Geographic External Revenue'].sum()\n",
    "As28 = RBD.loc[RBD['Segment Name'] == 'South East Asia & Oceania', 'Geographic External Revenue'].sum()\n",
    "As29 = RBD.loc[RBD['Segment Name'] == 'Middle East and Africa', 'Geographic External Revenue'].sum()\n",
    "As30 = RBD.loc[RBD['Segment Name'] == 'Greater China Region', 'Geographic External Revenue'].sum()\n",
    "As31 = RBD.loc[RBD['Segment Name'] == 'Philippines', 'Geographic External Revenue'].sum()\n",
    "As32 = RBD.loc[RBD['Segment Name'] == 'Rest of AOA', 'Geographic External Revenue'].sum()\n",
    "As33 = RBD.loc[RBD['Segment Name'] == 'Other Asia, Africa & Australasia', 'Geographic External Revenue'].sum()\n",
    "As34 = RBD.loc[RBD['Segment Name'] == 'Other Asia-Pacific ex-Japan', 'Geographic External Revenue'].sum()\n",
    "As35 = RBD.loc[RBD['Segment Name'] == 'Asia/Pacific', 'Geographic External Revenue'].sum()\n",
    "As36 = RBD.loc[RBD['Segment Name'] == 'Asia, Other than China', 'Geographic External Revenue'].sum()\n",
    "As37 = RBD.loc[RBD['Segment Name'] == 'Oceania', 'Geographic External Revenue'].sum()\n",
    "As38 = RBD.loc[RBD['Segment Name'] == 'Taiwan', 'Geographic External Revenue'].sum()\n",
    "As39 = RBD.loc[RBD['Segment Name'] == 'Greater China-Other', 'Geographic External Revenue'].sum()\n",
    "As40 = RBD.loc[RBD['Segment Name'] == 'Greater China-Footwear', 'Geographic External Revenue'].sum()\n",
    "As41 = RBD.loc[RBD['Segment Name'] == 'Greater China-Equipment', 'Geographic External Revenue'].sum()\n",
    "As42 = RBD.loc[RBD['Segment Name'] == 'Greater China-Apparel', 'Geographic External Revenue'].sum()\n",
    "As43 = RBD.loc[RBD['Segment Name'] == 'Indonesia', 'Geographic External Revenue'].sum()\n",
    "As44 = RBD.loc[RBD['Segment Name'] == 'Malaysia', 'Geographic External Revenue'].sum()\n",
    "As45 = RBD.loc[RBD['Segment Name'] == 'Asia/Pacific Rim', 'Geographic External Revenue'].sum()\n",
    "As46 = RBD.loc[RBD['Segment Name'] == 'Other Asia', 'Geographic External Revenue'].sum()\n",
    "As47 = RBD.loc[RBD['Segment Name'] == 'Asia/Australia', 'Geographic External Revenue'].sum()\n",
    "As48 = RBD.loc[RBD['Segment Name'] == 'Within India', 'Geographic External Revenue'].sum()\n",
    "As49 = RBD.loc[RBD['Segment Name'] == 'Outside India.', 'Geographic External Revenue'].sum()\n",
    "As50 = RBD.loc[RBD['Segment Name'] == 'APAC', 'Geographic External Revenue'].sum()\n",
    "As51 = RBD.loc[RBD['Segment Name'] == 'Asia Excluding Singapore', 'Geographic External Revenue'].sum()\n",
    "As52 = RBD.loc[RBD['Segment Name'] == 'Kazakhstan', 'Geographic External Revenue'].sum()\n",
    "As53 = RBD.loc[RBD['Segment Name'] == 'Asia/Middle East/Pacific-Oceania', 'Geographic External Revenue'].sum()\n",
    "As54 = RBD.loc[RBD['Segment Name'] == 'China (Country)', 'Geographic External Revenue'].sum()\n",
    "As55 = RBD.loc[RBD['Segment Name'] == 'Australasia', 'Geographic External Revenue'].sum()\n",
    "\n",
    "Asia = As1+As2+As3+As4+As5+As6+As7+As8+As9+As10+As11+As12+As13+As14+As15+As16+As17+As18+As19+As20+As21+As22+As23+As24+As25+As26+As27+As28+As29+As30+As31+As32+As33+As34+As35+As36+As37+As38+As39+As40+As41+As42+As43+As44+As45+As46+As47+As48+As49+As50+As51+As52+As53+As54+As55\n",
    "Asia"
   ]
  },
  {
   "cell_type": "code",
   "execution_count": 7,
   "metadata": {},
   "outputs": [
    {
     "data": {
      "text/plain": [
       "1637767647000.0"
      ]
     },
     "execution_count": 7,
     "metadata": {},
     "output_type": "execute_result"
    }
   ],
   "source": [
    "Ot1 = RBD.loc[RBD['Segment Name'] == 'Rest of World.', 'Geographic External Revenue'].sum()\n",
    "Ot2 = RBD.loc[RBD['Segment Name'] == 'International', 'Geographic External Revenue'].sum()\n",
    "Ot3 = RBD.loc[RBD['Segment Name'] == 'Rest of the World', 'Geographic External Revenue'].sum()\n",
    "Ot4 = RBD.loc[RBD['Segment Name'] == 'Other Countries', 'Geographic External Revenue'].sum()\n",
    "Ot5 = RBD.loc[RBD['Segment Name'] == 'Others', 'Geographic External Revenue'].sum()\n",
    "Ot6 = RBD.loc[RBD['Segment Name'] == 'South America, Africa, Middle East', 'Geographic External Revenue'].sum()\n",
    "Ot7 = RBD.loc[RBD['Segment Name'] == 'Unallocated', 'Geographic External Revenue'].sum()\n",
    "Ot8 = RBD.loc[RBD['Segment Name'] == 'Other Countries', 'Geographic External Revenue'].sum()\n",
    "Ot9 = RBD.loc[RBD['Segment Name'] == 'Other Countries', 'Geographic External Revenue'].sum()\n",
    "Ot10 = RBD.loc[RBD['Segment Name'] == 'Other Countries', 'Geographic External Revenue'].sum()\n",
    "Ot11 = RBD.loc[RBD['Segment Name'] == 'Other Countries', 'Geographic External Revenue'].sum()\n",
    "Ot12 = RBD.loc[RBD['Segment Name'] == 'Other', 'Geographic External Revenue'].sum()\n",
    "Ot13 = RBD.loc[RBD['Segment Name'] == 'Other foreign', 'Geographic External Revenue'].sum()\n",
    "Ot14 = RBD.loc[RBD['Segment Name'] == 'other', 'Geographic External Revenue'].sum()\n",
    "Ot15 = RBD.loc[RBD['Segment Name'] == 'Other Regions', 'Geographic External Revenue'].sum()\n",
    "Ot16 = RBD.loc[RBD['Segment Name'] == 'Other WECA', 'Geographic External Revenue'].sum()\n",
    "Ot17 = RBD.loc[RBD['Segment Name'] == 'Other MENA', 'Geographic External Revenue'].sum()\n",
    "Ot18 = RBD.loc[RBD['Segment Name'] == 'Head Office Companies & Eliminations', 'Geographic External Revenue'].sum()\n",
    "Ot19 = RBD.loc[RBD['Segment Name'] == 'Other Foreign/Intercompany Eliminations', 'Geographic External Revenue'].sum()\n",
    "Ot20 = RBD.loc[RBD['Segment Name'] == 'Other Foreign', 'Geographic External Revenue'].sum()\n",
    "Ot21 = RBD.loc[RBD['Segment Name'] == 'Non-US', 'Geographic External Revenue'].sum()\n",
    "Ot22 = RBD.loc[RBD['Segment Name'] == 'Africa/Eurasia', 'Geographic External Revenue'].sum()\n",
    "Ot23 = RBD.loc[RBD['Segment Name'] == 'Vodacom', 'Geographic External Revenue'].sum()\n",
    "Ot24 = RBD.loc[RBD['Segment Name'] == 'Other AMAP', 'Geographic External Revenue'].sum()\n",
    "Ot25 = RBD.loc[RBD['Segment Name'] == 'Intercompany Eliminations', 'Geographic External Revenue'].sum()\n",
    "Ot26 = RBD.loc[RBD['Segment Name'] == 'Other operations', 'Geographic External Revenue'].sum()\n",
    "Ot27 = RBD.loc[RBD['Segment Name'] == 'All other Countries', 'Geographic External Revenue'].sum()\n",
    "Ot28 = RBD.loc[RBD['Segment Name'] == 'Other International', 'Geographic External Revenue'].sum()\n",
    "Ot29 = RBD.loc[RBD['Segment Name'] == 'All Others', 'Geographic External Revenue'].sum()\n",
    "Ot30 = RBD.loc[RBD['Segment Name'] == 'Domestic', 'Geographic External Revenue'].sum()\n",
    "Ot31 = RBD.loc[RBD['Segment Name'] == 'ROW', 'Geographic External Revenue'].sum()\n",
    "Ot32 = RBD.loc[RBD['Segment Name'] == 'Australia and Asia', 'Geographic External Revenue'].sum()\n",
    "Ot33 = RBD.loc[RBD['Segment Name'] == 'International(foreign)', 'Geographic External Revenue'].sum()\n",
    "Ot34 = RBD.loc[RBD['Segment Name'] == 'APJC', 'Geographic External Revenue'].sum()\n",
    "Ot35 = RBD.loc[RBD['Segment Name'] == 'Asia, Africa, Australia, New Zealand, aand middle east', 'Geographic External Revenue'].sum()\n",
    "Ot36 = RBD.loc[RBD['Segment Name'] == 'Japan, Other Asia Pacific, Canada, Latin America', 'Geographic External Revenue'].sum()\n",
    "Ot37 = RBD.loc[RBD['Segment Name'] == 'International Developmental Licensed Markets & Corporate', 'Geographic External Revenue'].sum()\n",
    "Ot38 = RBD.loc[RBD['Segment Name'] == 'International Lead Markets', 'Geographic External Revenue'].sum()\n",
    "Ot39 = RBD.loc[RBD['Segment Name'] == 'Rest of World', 'Geographic External Revenue'].sum()\n",
    "Ot40 = RBD.loc[RBD['Segment Name'] == 'Other Unallocated', 'Geographic External Revenue'].sum()\n",
    "Ot41 = RBD.loc[RBD['Segment Name'] == 'Asia Pacific & Latin America-Other', 'Geographic External Revenue'].sum()\n",
    "Ot42 = RBD.loc[RBD['Segment Name'] == 'Asia Pacific & Latin America-Footwear', 'Geographic External Revenue'].sum()\n",
    "Ot43 = RBD.loc[RBD['Segment Name'] == 'Asia Pacific & Latin America-Equipment', 'Geographic External Revenue'].sum()\n",
    "Ot44 = RBD.loc[RBD['Segment Name'] == 'Asia Pacific & Latin America-Apparel', 'Geographic External Revenue'].sum()\n",
    "Ot45 = RBD.loc[RBD['Segment Name'] == 'Converse-Other', 'Geographic External Revenue'].sum()\n",
    "Ot46 = RBD.loc[RBD['Segment Name'] == 'Converse-Footwear', 'Geographic External Revenue'].sum()\n",
    "Ot47 = RBD.loc[RBD['Segment Name'] == 'Converse-Equipment', 'Geographic External Revenue'].sum()\n",
    "Ot48 = RBD.loc[RBD['Segment Name'] == 'Converse-Apparel', 'Geographic External Revenue'].sum()\n",
    "Ot49 = RBD.loc[RBD['Segment Name'] == 'Corporate-Other', 'Geographic External Revenue'].sum()\n",
    "Ot50 = RBD.loc[RBD['Segment Name'] == 'Corporate-Footwear', 'Geographic External Revenue'].sum()\n",
    "Ot51 = RBD.loc[RBD['Segment Name'] == 'Corporate-Equipment', 'Geographic External Revenue'].sum()\n",
    "Ot52 = RBD.loc[RBD['Segment Name'] == 'Corporate-Apparel', 'Geographic External Revenue'].sum()\n",
    "Ot53 = RBD.loc[RBD['Segment Name'] == 'Canpotex', 'Geographic External Revenue'].sum()\n",
    "Ot54 = RBD.loc[RBD['Segment Name'] == 'Africa/Asia other', 'Geographic External Revenue'].sum()\n",
    "Ot55 = RBD.loc[RBD['Segment Name'] == 'Domestic streaming and DVD', 'Geographic External Revenue'].sum()\n",
    "Ot56 = RBD.loc[RBD['Segment Name'] == 'Foreign Countries', 'Geographic External Revenue'].sum()\n",
    "Ot57 = RBD.loc[RBD['Segment Name'] == 'Growth Markets', 'Geographic External Revenue'].sum()\n",
    "Ot58 = RBD.loc[RBD['Segment Name'] == 'Africa, Australia and Oceania', 'Geographic External Revenue'].sum()\n",
    "Ot59 = RBD.loc[RBD['Segment Name'] == 'Asia, Middle East and Africa', 'Geographic External Revenue'].sum()\n",
    "Ot60 = RBD.loc[RBD['Segment Name'] == 'Other Foreign-', 'Geographic External Revenue'].sum()\n",
    "Ot61 = RBD.loc[RBD['Segment Name'] == 'Rest of world', 'Geographic External Revenue'].sum()\n",
    "Ot62 = RBD.loc[RBD['Segment Name'] == 'Amazon Web Services', 'Geographic External Revenue'].sum()\n",
    "Ot63 = RBD.loc[RBD['Segment Name'] == 'Eliminations and Other', 'Geographic External Revenue'].sum()\n",
    "Ot64 = RBD.loc[RBD['Segment Name'] == 'Other countries', 'Geographic External Revenue'].sum()\n",
    "Ot65 = RBD.loc[RBD['Segment Name'] == 'Middle East&Asia', 'Geographic External Revenue'].sum()\n",
    "Ot66 = RBD.loc[RBD['Segment Name'] == 'Eliminations & Others', 'Geographic External Revenue'].sum()\n",
    "Ot67 = RBD.loc[RBD['Segment Name'] == 'Non-U.S.', 'Geographic External Revenue'].sum()\n",
    "Ot68 = RBD.loc[RBD['Segment Name'] == 'Other foreign countries', 'Geographic External Revenue'].sum()\n",
    "Ot69 = RBD.loc[RBD['Segment Name'] == 'Developed Rest of World', 'Geographic External Revenue'].sum()\n",
    "Ot70 = RBD.loc[RBD['Segment Name'] == 'Emerging Markets', 'Geographic External Revenue'].sum()\n",
    "Ot71 = RBD.loc[RBD['Segment Name'] == 'Global Brand Divisions-Apparel', 'Geographic External Revenue'].sum()\n",
    "Ot72 = RBD.loc[RBD['Segment Name'] == 'Global Brand Divisions-Equipment', 'Geographic External Revenue'].sum()\n",
    "Ot73 = RBD.loc[RBD['Segment Name'] == 'Global Brand Divisions-Footwear', 'Geographic External Revenue'].sum()\n",
    "Ot74 = RBD.loc[RBD['Segment Name'] == 'Global Brand Divisions-Other', 'Geographic External Revenue'].sum()\n",
    "\n",
    "Other = Ot1+Ot2+Ot3+Ot4+Ot5+Ot6+Ot7+Ot8+Ot9+Ot10+Ot11+Ot12+Ot13+Ot14+Ot15+Ot16+Ot17+Ot18+Ot19+Ot20+Ot21+Ot22+Ot23+Ot24+Ot25+Ot26+Ot27+Ot28+Ot29+Ot30+Ot31+Ot32+Ot33+Ot34+Ot35+Ot36+Ot37+Ot38+Ot39+Ot40+Ot41+Ot42+Ot43+Ot44+Ot45+Ot46+Ot47+Ot48+Ot49+Ot50+Ot51+Ot52+Ot53+Ot54+Ot55+Ot56+Ot57+Ot58+Ot59+Ot60+Ot61+Ot62+Ot63+Ot64+Ot65+Ot66+Ot67+Ot68+Ot69+Ot70+Ot71+Ot72+Ot73+Ot74\n",
    "Other"
   ]
  },
  {
   "cell_type": "code",
   "execution_count": 8,
   "metadata": {},
   "outputs": [
    {
     "data": {
      "text/plain": [
       "7500648790000.0"
      ]
     },
     "execution_count": 8,
     "metadata": {},
     "output_type": "execute_result"
    }
   ],
   "source": [
    "Total = Americas + Asia + Europe + Other\n",
    "Total"
   ]
  },
  {
   "cell_type": "code",
   "execution_count": 9,
   "metadata": {},
   "outputs": [
    {
     "data": {
      "text/plain": [
       "0.6557566052896072"
      ]
     },
     "execution_count": 9,
     "metadata": {},
     "output_type": "execute_result"
    }
   ],
   "source": [
    "Am_Perc = (Americas/Total)\n",
    "Am_Perc"
   ]
  },
  {
   "cell_type": "code",
   "execution_count": 10,
   "metadata": {},
   "outputs": [
    {
     "data": {
      "text/plain": [
       "0.0535472585432173"
      ]
     },
     "execution_count": 10,
     "metadata": {},
     "output_type": "execute_result"
    }
   ],
   "source": [
    "As_Perc = (Asia/Total)\n",
    "As_Perc"
   ]
  },
  {
   "cell_type": "code",
   "execution_count": 11,
   "metadata": {},
   "outputs": [
    {
     "data": {
      "text/plain": [
       "0.07234600501805391"
      ]
     },
     "execution_count": 11,
     "metadata": {},
     "output_type": "execute_result"
    }
   ],
   "source": [
    "Eu_Perc = (Europe/Total)\n",
    "Eu_Perc"
   ]
  },
  {
   "cell_type": "code",
   "execution_count": 12,
   "metadata": {},
   "outputs": [
    {
     "data": {
      "text/plain": [
       "0.21835013114912158"
      ]
     },
     "execution_count": 12,
     "metadata": {},
     "output_type": "execute_result"
    }
   ],
   "source": [
    "Oth_Perc = (Other/Total)\n",
    "Oth_Perc"
   ]
  },
  {
   "cell_type": "code",
   "execution_count": 13,
   "metadata": {},
   "outputs": [
    {
     "data": {
      "text/plain": [
       "0.0"
      ]
     },
     "execution_count": 13,
     "metadata": {},
     "output_type": "execute_result"
    }
   ],
   "source": [
    "Na_Perc = 1 - As_Perc - Am_Perc - Eu_Perc - Oth_Perc\n",
    "Na_Perc"
   ]
  },
  {
   "cell_type": "markdown",
   "metadata": {},
   "source": [
    "### 4. Plot Data"
   ]
  },
  {
   "cell_type": "code",
   "execution_count": 14,
   "metadata": {},
   "outputs": [
    {
     "data": {
      "image/png": "[encoded data removed]",
      "text/plain": [
       "<Figure size 432x288 with 1 Axes>"
      ]
     },
     "metadata": {},
     "output_type": "display_data"
    }
   ],
   "source": [
    "labels = ['Americas','Asia','EMEA','Other/Unclassified','NAN']\n",
    "sizes = [Am_Perc,As_Perc,Eu_Perc,Oth_Perc,Na_Perc]\n",
    "colors = ['Blue','lightblue','green','lightgreen','White']\n",
    "explode = (0.1,0,0,0,0) \n",
    "\n",
    "plt.pie(sizes, explode=explode, labels=labels, colors=colors,\n",
    "autopct='%1.1f%%', shadow=True, startangle=140)\n",
    "\n",
    "plt.axis('equal')\n",
    "plt.show()"
   ]
  }
 ],
 "metadata": {
  "kernelspec": {
   "display_name": "Python 3",
   "language": "python",
   "name": "python3"
  },
  "language_info": {
   "codemirror_mode": {
    "name": "ipython",
    "version": 3
   },
   "file_extension": ".py",
   "mimetype": "text/x-python",
   "name": "python",
   "nbconvert_exporter": "python",
   "pygments_lexer": "ipython3",
   "version": "3.7.4"
  }
 },
 "nbformat": 4,
 "nbformat_minor": 2
}
