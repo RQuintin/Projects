{
 "cells": [
  {
   "cell_type": "markdown",
   "metadata": {},
   "source": [
    "# Fierce Research Portfolio Execution"
   ]
  },
  {
   "cell_type": "markdown",
   "metadata": {},
   "source": [
    "##### Import Packages"
   ]
  },
  {
   "cell_type": "code",
   "execution_count": 41,
   "metadata": {},
   "outputs": [],
   "source": [
    "import eikon as tr\n",
    "import pandas as pd\n",
    "import numpy as np\n",
    "import datetime as dt\n",
    "from datetime import datetime"
   ]
  },
  {
   "cell_type": "code",
   "execution_count": 43,
   "metadata": {},
   "outputs": [],
   "source": [
    "tr.set_app_key('29e7c9361eb64e748246349dff7c07a532e1f41d')"
   ]
  },
  {
   "cell_type": "code",
   "execution_count": 44,
   "metadata": {},
   "outputs": [],
   "source": [
    "trading, e= tr.get_data(['HXU.TO','NUGT.K', 'SPY', 'QQQ.O','SPXL.K','TQQQ.O'],['TR.closeprice.date','TR.closeprice','TR.PriceAvg20D','TR.PriceAvg200D'])"
   ]
  },
  {
   "cell_type": "markdown",
   "metadata": {},
   "source": [
    "##### Import ETFs Prices"
   ]
  },
  {
   "cell_type": "code",
   "execution_count": 45,
   "metadata": {},
   "outputs": [
    {
     "data": {
      "text/html": [
       "<div>\n",
       "<style scoped>\n",
       "    .dataframe tbody tr th:only-of-type {\n",
       "        vertical-align: middle;\n",
       "    }\n",
       "\n",
       "    .dataframe tbody tr th {\n",
       "        vertical-align: top;\n",
       "    }\n",
       "\n",
       "    .dataframe thead th {\n",
       "        text-align: right;\n",
       "    }\n",
       "</style>\n",
       "<table border=\"1\" class=\"dataframe\">\n",
       "  <thead>\n",
       "    <tr style=\"text-align: right;\">\n",
       "      <th></th>\n",
       "      <th>instrument</th>\n",
       "      <th>close price</th>\n",
       "      <th>20-day sma</th>\n",
       "      <th>200-day sma</th>\n",
       "    </tr>\n",
       "    <tr>\n",
       "      <th>Date</th>\n",
       "      <th></th>\n",
       "      <th></th>\n",
       "      <th></th>\n",
       "      <th></th>\n",
       "    </tr>\n",
       "  </thead>\n",
       "  <tbody>\n",
       "    <tr>\n",
       "      <th>2020-06-12 00:00:00+00:00</th>\n",
       "      <td>NUGT.K</td>\n",
       "      <td>62.0</td>\n",
       "      <td>70.0</td>\n",
       "      <td>123.0</td>\n",
       "    </tr>\n",
       "    <tr>\n",
       "      <th>2020-06-12 00:00:00+00:00</th>\n",
       "      <td>SPY</td>\n",
       "      <td>304.0</td>\n",
       "      <td>305.0</td>\n",
       "      <td>301.0</td>\n",
       "    </tr>\n",
       "    <tr>\n",
       "      <th>2020-06-12 00:00:00+00:00</th>\n",
       "      <td>QQQ.O</td>\n",
       "      <td>236.0</td>\n",
       "      <td>234.0</td>\n",
       "      <td>208.0</td>\n",
       "    </tr>\n",
       "    <tr>\n",
       "      <th>2020-06-12 00:00:00+00:00</th>\n",
       "      <td>SPXL.K</td>\n",
       "      <td>40.0</td>\n",
       "      <td>41.0</td>\n",
       "      <td>51.0</td>\n",
       "    </tr>\n",
       "    <tr>\n",
       "      <th>2020-06-12 00:00:00+00:00</th>\n",
       "      <td>TQQQ.O</td>\n",
       "      <td>85.0</td>\n",
       "      <td>83.0</td>\n",
       "      <td>75.0</td>\n",
       "    </tr>\n",
       "  </tbody>\n",
       "</table>\n",
       "</div>"
      ],
      "text/plain": [
       "                          instrument  close price  20-day sma  200-day sma\n",
       "Date                                                                      \n",
       "2020-06-12 00:00:00+00:00     NUGT.K         62.0        70.0        123.0\n",
       "2020-06-12 00:00:00+00:00        SPY        304.0       305.0        301.0\n",
       "2020-06-12 00:00:00+00:00      QQQ.O        236.0       234.0        208.0\n",
       "2020-06-12 00:00:00+00:00     SPXL.K         40.0        41.0         51.0\n",
       "2020-06-12 00:00:00+00:00     TQQQ.O         85.0        83.0         75.0"
      ]
     },
     "execution_count": 45,
     "metadata": {},
     "output_type": "execute_result"
    }
   ],
   "source": [
    "trading['Date'] = trading['Date'].apply(pd.to_datetime)\n",
    "trading.set_index('Date', inplace=True)\n",
    "trading.columns = map(str.lower, trading.columns)\n",
    "trading.tail().round()"
   ]
  },
  {
   "cell_type": "markdown",
   "metadata": {},
   "source": [
    "##### Set Tactical Asset Allocation Weights For Each ETF"
   ]
  },
  {
   "cell_type": "code",
   "execution_count": 46,
   "metadata": {},
   "outputs": [],
   "source": [
    "activeportusd = 50000\n",
    "trading['tactical aa'] = [.05,.05,.20,.20,.25,.25]"
   ]
  },
  {
   "cell_type": "code",
   "execution_count": 47,
   "metadata": {},
   "outputs": [],
   "source": [
    "trading['maxnotional'] = activeportusd*trading['tactical aa']\n",
    "trading['num of shrs'] = (trading['maxnotional']/trading['close price']).round()"
   ]
  },
  {
   "cell_type": "markdown",
   "metadata": {},
   "source": [
    "##### Position Size Guidelines"
   ]
  },
  {
   "cell_type": "code",
   "execution_count": 48,
   "metadata": {},
   "outputs": [],
   "source": [
    "position_sizes = []\n",
    "for idx, row in trading.iterrows():\n",
    "    i = row['close price']\n",
    "    x = row['20-day sma']\n",
    "    y = row['200-day sma']\n",
    "    z = row['num of shrs']\n",
    "    if (i > x) and (i > y):\n",
    "        position_sizes.append(1*z)\n",
    "    elif ((i > x) and (i < y)) or ((i < x) and (i > y)):\n",
    "        position_sizes.append(0.5*z)\n",
    "    elif (i < x) and (i < y):\n",
    "        position_sizes.append(0.1*z)\n",
    "    else:\n",
    "        position_sizes.append(np.nan)\n",
    "\n",
    "trading['position size'] = position_sizes"
   ]
  },
  {
   "cell_type": "markdown",
   "metadata": {},
   "source": [
    "##### Price Close VS 20D VS 200D Times Number Of Shares"
   ]
  },
  {
   "cell_type": "code",
   "execution_count": 49,
   "metadata": {},
   "outputs": [
    {
     "data": {
      "text/html": [
       "<div>\n",
       "<style scoped>\n",
       "    .dataframe tbody tr th:only-of-type {\n",
       "        vertical-align: middle;\n",
       "    }\n",
       "\n",
       "    .dataframe tbody tr th {\n",
       "        vertical-align: top;\n",
       "    }\n",
       "\n",
       "    .dataframe thead th {\n",
       "        text-align: right;\n",
       "    }\n",
       "</style>\n",
       "<table border=\"1\" class=\"dataframe\">\n",
       "  <thead>\n",
       "    <tr style=\"text-align: right;\">\n",
       "      <th></th>\n",
       "      <th>instrument</th>\n",
       "      <th>close price</th>\n",
       "      <th>20-day sma</th>\n",
       "      <th>200-day sma</th>\n",
       "      <th>tactical aa</th>\n",
       "      <th>maxnotional</th>\n",
       "      <th>num of shrs</th>\n",
       "      <th>position size</th>\n",
       "    </tr>\n",
       "    <tr>\n",
       "      <th>Date</th>\n",
       "      <th></th>\n",
       "      <th></th>\n",
       "      <th></th>\n",
       "      <th></th>\n",
       "      <th></th>\n",
       "      <th></th>\n",
       "      <th></th>\n",
       "      <th></th>\n",
       "    </tr>\n",
       "  </thead>\n",
       "  <tbody>\n",
       "    <tr>\n",
       "      <th>2020-06-12 00:00:00+00:00</th>\n",
       "      <td>HXU.TO</td>\n",
       "      <td>31.66</td>\n",
       "      <td>31.86</td>\n",
       "      <td>37.31</td>\n",
       "      <td>0.05</td>\n",
       "      <td>2500.0</td>\n",
       "      <td>79.0</td>\n",
       "      <td>7.9</td>\n",
       "    </tr>\n",
       "    <tr>\n",
       "      <th>2020-06-12 00:00:00+00:00</th>\n",
       "      <td>NUGT.K</td>\n",
       "      <td>62.31</td>\n",
       "      <td>69.93</td>\n",
       "      <td>123.38</td>\n",
       "      <td>0.05</td>\n",
       "      <td>2500.0</td>\n",
       "      <td>40.0</td>\n",
       "      <td>4.0</td>\n",
       "    </tr>\n",
       "    <tr>\n",
       "      <th>2020-06-12 00:00:00+00:00</th>\n",
       "      <td>SPY</td>\n",
       "      <td>304.21</td>\n",
       "      <td>304.74</td>\n",
       "      <td>300.98</td>\n",
       "      <td>0.20</td>\n",
       "      <td>10000.0</td>\n",
       "      <td>33.0</td>\n",
       "      <td>16.5</td>\n",
       "    </tr>\n",
       "    <tr>\n",
       "      <th>2020-06-12 00:00:00+00:00</th>\n",
       "      <td>QQQ.O</td>\n",
       "      <td>235.88</td>\n",
       "      <td>233.61</td>\n",
       "      <td>207.51</td>\n",
       "      <td>0.20</td>\n",
       "      <td>10000.0</td>\n",
       "      <td>42.0</td>\n",
       "      <td>42.0</td>\n",
       "    </tr>\n",
       "    <tr>\n",
       "      <th>2020-06-12 00:00:00+00:00</th>\n",
       "      <td>SPXL.K</td>\n",
       "      <td>39.88</td>\n",
       "      <td>40.84</td>\n",
       "      <td>51.04</td>\n",
       "      <td>0.25</td>\n",
       "      <td>12500.0</td>\n",
       "      <td>313.0</td>\n",
       "      <td>31.3</td>\n",
       "    </tr>\n",
       "    <tr>\n",
       "      <th>2020-06-12 00:00:00+00:00</th>\n",
       "      <td>TQQQ.O</td>\n",
       "      <td>84.80</td>\n",
       "      <td>83.40</td>\n",
       "      <td>74.53</td>\n",
       "      <td>0.25</td>\n",
       "      <td>12500.0</td>\n",
       "      <td>147.0</td>\n",
       "      <td>147.0</td>\n",
       "    </tr>\n",
       "  </tbody>\n",
       "</table>\n",
       "</div>"
      ],
      "text/plain": [
       "                          instrument  close price  20-day sma  200-day sma  \\\n",
       "Date                                                                         \n",
       "2020-06-12 00:00:00+00:00     HXU.TO        31.66       31.86        37.31   \n",
       "2020-06-12 00:00:00+00:00     NUGT.K        62.31       69.93       123.38   \n",
       "2020-06-12 00:00:00+00:00        SPY       304.21      304.74       300.98   \n",
       "2020-06-12 00:00:00+00:00      QQQ.O       235.88      233.61       207.51   \n",
       "2020-06-12 00:00:00+00:00     SPXL.K        39.88       40.84        51.04   \n",
       "2020-06-12 00:00:00+00:00     TQQQ.O        84.80       83.40        74.53   \n",
       "\n",
       "                           tactical aa  maxnotional  num of shrs  \\\n",
       "Date                                                               \n",
       "2020-06-12 00:00:00+00:00         0.05       2500.0         79.0   \n",
       "2020-06-12 00:00:00+00:00         0.05       2500.0         40.0   \n",
       "2020-06-12 00:00:00+00:00         0.20      10000.0         33.0   \n",
       "2020-06-12 00:00:00+00:00         0.20      10000.0         42.0   \n",
       "2020-06-12 00:00:00+00:00         0.25      12500.0        313.0   \n",
       "2020-06-12 00:00:00+00:00         0.25      12500.0        147.0   \n",
       "\n",
       "                           position size  \n",
       "Date                                      \n",
       "2020-06-12 00:00:00+00:00            7.9  \n",
       "2020-06-12 00:00:00+00:00            4.0  \n",
       "2020-06-12 00:00:00+00:00           16.5  \n",
       "2020-06-12 00:00:00+00:00           42.0  \n",
       "2020-06-12 00:00:00+00:00           31.3  \n",
       "2020-06-12 00:00:00+00:00          147.0  "
      ]
     },
     "execution_count": 49,
     "metadata": {},
     "output_type": "execute_result"
    }
   ],
   "source": [
    "trading.round(2)"
   ]
  },
  {
   "cell_type": "code",
   "execution_count": null,
   "metadata": {},
   "outputs": [],
   "source": []
  }
 ],
 "metadata": {
  "kernelspec": {
   "display_name": "Python 3",
   "language": "python",
   "name": "python3"
  },
  "language_info": {
   "codemirror_mode": {
    "name": "ipython",
    "version": 3
   },
   "file_extension": ".py",
   "mimetype": "text/x-python",
   "name": "python",
   "nbconvert_exporter": "python",
   "pygments_lexer": "ipython3",
   "version": "3.7.4"
  }
 },
 "nbformat": 4,
 "nbformat_minor": 4
}
